{
 "cells": [
  {
   "cell_type": "markdown",
   "id": "d4e2e383-09ab-406a-865a-5cb49437f244",
   "metadata": {},
   "source": [
    "# Required Packages"
   ]
  },
  {
   "cell_type": "code",
   "execution_count": null,
   "id": "c5cc203f-e576-419d-a0a9-c1a4a1f83eb9",
   "metadata": {},
   "outputs": [],
   "source": [
    "import pandas as pd\n",
    "import matplotlib.pyplot as plt\n",
    "import seaborn as sns\n",
    "from scipy.stats import f_oneway"
   ]
  },
  {
   "cell_type": "markdown",
   "id": "51f3f36d-d2ed-4cf5-9646-3fda4dfd3e11",
   "metadata": {},
   "source": [
    "# Importing and basic information about the dataset"
   ]
  },
  {
   "cell_type": "code",
   "execution_count": null,
   "id": "e998bd3b-1c0e-48a6-9f65-5df593c32b6c",
   "metadata": {},
   "outputs": [],
   "source": [
    "df = pd.read_csv(\"Crime_Incidents_in_2024.csv\")\n",
    "\n",
    "print(\"Columns names in the dataset:\\n\")\n",
    "print(df.columns)\n",
    "print(\"\\n--------------------------------------------------------------------------\\n\")\n",
    "\n",
    "print(\"Schema Info and non-null counts:\\n\")\n",
    "print(df.info())\n",
    "print(\"\\n--------------------------------------------------------------------------\\n\")\n",
    "\n",
    "print(\"Data Description of each column:\\n\")\n",
    "print(df.describe(include=\"all\"))\n",
    "print(\"\\n--------------------------------------------------------------------------\\n\")"
   ]
  },
  {
   "cell_type": "markdown",
   "id": "1a0edb63-b3bf-4d40-b055-009597a64e8c",
   "metadata": {},
   "source": [
    "# Missing values information"
   ]
  },
  {
   "cell_type": "code",
   "execution_count": null,
   "id": "340ec20c-df0e-4c86-a8ce-273f2e0a2b94",
   "metadata": {
    "tags": []
   },
   "outputs": [],
   "source": [
    "print(\"Missing values count and percentages:\\n\")\n",
    "print(pd.DataFrame({\n",
    "    'Missing Count': df.isnull().sum(),\n",
    "    'Missing Percentage': df.isnull().mean() * 100\n",
    "}))\n",
    "print(\"\\n--------------------------------------------------------------------------\\n\")"
   ]
  },
  {
   "cell_type": "markdown",
   "id": "94bba369-0ce9-497a-8990-a7642e191042",
   "metadata": {},
   "source": [
    "# Duplicate rows information"
   ]
  },
  {
   "cell_type": "code",
   "execution_count": null,
   "id": "2665f2eb-124d-423f-b9d1-ae349e2dad53",
   "metadata": {
    "tags": []
   },
   "outputs": [],
   "source": [
    "print(\"Duplicate rows count and percentages:\\n\")\n",
    "print(df.duplicated().sum())\n",
    "print(\"\\n--------------------------------------------------------------------------\\n\")\n",
    "\n",
    "df = df.drop_duplicates()"
   ]
  },
  {
   "cell_type": "markdown",
   "id": "224e339c-1351-4d8c-93af-39a817a6d1a1",
   "metadata": {},
   "source": [
    "# Varience/Data Distribution of the dataset"
   ]
  },
  {
   "cell_type": "code",
   "execution_count": null,
   "id": "be7cff65-f479-4c68-8886-389555c5c739",
   "metadata": {
    "tags": []
   },
   "outputs": [],
   "source": [
    "print(\"Data variance of each column:\\n\")\n",
    "temp = df.select_dtypes(include=['number'])\n",
    "print(temp.var())\n",
    "print(\"\\n--------------------------------------------------------------------------\\n\")\n",
    "\n",
    "temp.hist(figsize=(30, 15), bins=100)\n",
    "plt.show()\n"
   ]
  },
  {
   "cell_type": "markdown",
   "id": "5f49e972-c185-4273-8fa3-da53a69c80fb",
   "metadata": {
    "tags": []
   },
   "source": [
    "# Relationship Between Variables usin Analysis of Variance"
   ]
  },
  {
   "cell_type": "code",
   "execution_count": null,
   "id": "d700afd4-edce-4e04-b279-29e7003759b0",
   "metadata": {
    "tags": []
   },
   "outputs": [],
   "source": [
    "categorical_columns = ['SHIFT', 'METHOD', 'OFFENSE', 'WARD', 'DISTRICT', 'PSA', 'NEIGHBORHOOD_CLUSTER', 'BLOCK_GROUP', 'VOTING_PRECINCT', 'BID']\n",
    "numerical_columns = ['X', 'Y', 'XBLOCK', 'YBLOCK', 'LATITUDE', 'LONGITUDE']\n",
    "\n",
    "df_clean = df.dropna(subset=categorical_columns + numerical_columns)\n",
    "\n",
    "anova_results = []\n",
    "\n",
    "for cat_col in categorical_columns:\n",
    "    for num_col in numerical_columns:\n",
    "        if df_clean[cat_col].nunique() > 1:\n",
    "            groups = [df_clean[df_clean[cat_col] == cat_value][num_col] for cat_value in df_clean[cat_col].unique()]\n",
    "            try:\n",
    "                stat, p_value = f_oneway(*groups)\n",
    "                anova_results.append({'Categorical Variable': cat_col, 'Numerical Variable': num_col, \n",
    "                                      'F-value': stat, 'P-Value': p_value})\n",
    "            except:\n",
    "                pass\n",
    "\n",
    "pd.options.display.float_format = '{:.5f}'.format\n",
    "\n",
    "anova_df = pd.DataFrame(anova_results)\n",
    "\n",
    "print(anova_df)\n",
    "\n",
    "pd.reset_option('display.float_format')\n"
   ]
  },
  {
   "cell_type": "markdown",
   "id": "69c4dd6a-ec38-4875-bcba-fe299f1500d7",
   "metadata": {
    "tags": []
   },
   "source": [
    "# Class Imbalance Check"
   ]
  },
  {
   "cell_type": "code",
   "execution_count": null,
   "id": "74f59ca2-a118-415d-9183-c8bff6c1da11",
   "metadata": {
    "tags": []
   },
   "outputs": [],
   "source": [
    "columns = ['SHIFT', 'METHOD', 'OFFENSE']\n",
    "\n",
    "for col in columns:\n",
    "    plt.figure(figsize=(10, 5))\n",
    "    sns.countplot(x=df[col])\n",
    "    plt.xticks(rotation=45)\n",
    "    plt.title(f'Count Plot of {col}')\n",
    "    plt.show()"
   ]
  }
 ],
 "metadata": {
  "kernelspec": {
   "display_name": "pyspark",
   "language": "python",
   "name": "pyspark"
  },
  "language_info": {
   "codemirror_mode": {
    "name": "ipython",
    "version": 3
   },
   "file_extension": ".py",
   "mimetype": "text/x-python",
   "name": "python",
   "nbconvert_exporter": "python",
   "pygments_lexer": "ipython3",
   "version": "3.11.5"
  }
 },
 "nbformat": 4,
 "nbformat_minor": 5
}
